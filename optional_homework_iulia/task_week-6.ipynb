{
 "cells": [
  {
   "cell_type": "markdown",
   "id": "93b3e015",
   "metadata": {},
   "source": [
    "Define a function\n",
    "calculate()\n",
    "that can take any number of numeric\n",
    "arguments and apply a basic arithmetic operation (+, -, *, /) to them.\n",
    "- Set the default operation to\n",
    "addition\n",
    "(+).\n",
    "- Handle edge cases:\n",
    "1. If no numbers are passed, return 0\n",
    "2. Handle the division by 0\n",
    "- Return the result of applying the operation to all numbers.\n",
    "- Call the function multiple times using:\n",
    "1. Positional arguments\n",
    "2. Named operation argument\n",
    "Example usage:\n",
    "calculate(2, 3, 4, operation='*')\n",
    "calculate(10, 0, operation='/')\n",
    "calculate(operation='-')"
   ]
  },
  {
   "cell_type": "code",
   "execution_count": 5,
   "id": "6d09898c",
   "metadata": {},
   "outputs": [
    {
     "name": "stdout",
     "output_type": "stream",
     "text": [
      "24\n",
      "Error: Division by zero\n",
      "0\n"
     ]
    }
   ],
   "source": [
    "def calculate(*args, operation='+'):\n",
    "    if not args:\n",
    "        return 0\n",
    "\n",
    "    if operation == '+':\n",
    "        return sum(args)\n",
    "    elif operation == '-':\n",
    "        return args[0] - sum(args[1:]) if len(args) > 1 else args[0]\n",
    "    elif operation == '*':\n",
    "        result = 1\n",
    "        for num in args:\n",
    "            result *= num\n",
    "        return result\n",
    "    elif operation == '/':\n",
    "        result = args[0]\n",
    "        for num in args[1:]:\n",
    "            if num == 0:\n",
    "                return \"Error: Division by zero\"\n",
    "            result /= num\n",
    "        return result\n",
    "    else:\n",
    "        return \"Error: Unsupported operation\"\n",
    "\n",
    "print(calculate(2, 3, 4, operation='*'))\n",
    "print(calculate(10, 0, operation='/'))\n",
    "print(calculate(operation='-'))"
   ]
  },
  {
   "cell_type": "markdown",
   "id": "d66c1de8",
   "metadata": {},
   "source": [
    "- You are given two lists:\n",
    "names = [\"Lucas\", \"Nataly\", \"Megi\", \"Maria\", \"Steven\"]\n",
    "scores = [85, 92, 78, 81, 67]\n",
    "- Combine the names and scores into a single collection of (name, score)\n",
    "pairs.\n",
    "- Sort the result in descending order by score using a ‘\n",
    "lambda\n",
    "’ function.\n",
    "- Only include students who scored\n",
    "80 or above\n",
    "in the final output.\n",
    "- Print the sorted list of (name, score) pairs.\n",
    "- Expected output:\n",
    "Nataly: 92\n",
    "Lucas: 85\n",
    "Maria: 81"
   ]
  },
  {
   "cell_type": "code",
   "execution_count": 6,
   "id": "4fa448ee",
   "metadata": {},
   "outputs": [
    {
     "name": "stdout",
     "output_type": "stream",
     "text": [
      "Nataly: 92\n",
      "Lucas: 85\n",
      "Maria: 81\n"
     ]
    }
   ],
   "source": [
    "names = [\"Lucas\", \"Nataly\", \"Megi\", \"Maria\", \"Steven\"]\n",
    "scores = [85, 92, 78, 81, 67]\n",
    "\n",
    "pairs = list(zip(names, scores))\n",
    "filtered = list(filter(lambda x: x[1] >= 80, pairs))\n",
    "\n",
    "sorted_pairs = sorted(filtered, key=lambda x: x[1], reverse=True)\n",
    "\n",
    "for name, score in sorted_pairs:\n",
    "    print(f\"{name}: {score}\")"
   ]
  },
  {
   "cell_type": "markdown",
   "id": "647b6cc1",
   "metadata": {},
   "source": [
    " Write a function ‘check_age(age)’ that validates user input and handles\n",
    "different types of errors using multiple except blocks.\n",
    "- Prompt the user to enter their age (as input).\n",
    "- Attempt to convert the input to an integer:\n",
    "1. If it fails, catch adequate ExceptionType error and print a custom error\n",
    "message.\n",
    "2. If the number is negative or greater than 120, raise adequate\n",
    "ExceptionType error and print a custom error message.\n",
    "3. If the input is an empty string, raise adequate ExceptionType error and\n",
    "print a custom error message.\n",
    "4. In any case print 'Validation complete'.\n",
    "- Test the function by calling it with both valid and invalid inputs"
   ]
  },
  {
   "cell_type": "code",
   "execution_count": 7,
   "id": "ea412700",
   "metadata": {},
   "outputs": [
    {
     "name": "stdout",
     "output_type": "stream",
     "text": [
      "Valid age: 25\n",
      "Validation complete\n",
      "Error: Age must be between 0 and 120.\n",
      "Validation complete\n",
      "Error: Age must be between 0 and 120.\n",
      "Validation complete\n",
      "Error: Input cannot be empty.\n",
      "Validation complete\n",
      "invalid literal for int() with base 10: 'abc'\n",
      "Validation complete\n"
     ]
    }
   ],
   "source": [
    "def check_age(age=None):\n",
    "    try:\n",
    "        if age is None:\n",
    "            age = input(\"Enter your age: \")\n",
    "        if age == \"\":\n",
    "            raise ValueError(\"Error: Input cannot be empty.\")\n",
    "        age_int = int(age)\n",
    "        if age_int < 0 or age_int > 120:\n",
    "            raise ValueError(\"Error: Age must be between 0 and 120.\")\n",
    "        print(f\"Valid age: {age_int}\")\n",
    "    except ValueError as ve:\n",
    "        print(ve)\n",
    "    except TypeError:\n",
    "        print(\"Error: Invalid type for age input.\")\n",
    "    finally:\n",
    "        print(\"Validation complete\")\n",
    "\n",
    "check_age(\"25\")\n",
    "check_age(\"-5\") \n",
    "check_age(\"130\")\n",
    "check_age(\"\")\n",
    "check_age(\"abc\")  "
   ]
  }
 ],
 "metadata": {
  "kernelspec": {
   "display_name": "Python 3",
   "language": "python",
   "name": "python3"
  },
  "language_info": {
   "codemirror_mode": {
    "name": "ipython",
    "version": 3
   },
   "file_extension": ".py",
   "mimetype": "text/x-python",
   "name": "python",
   "nbconvert_exporter": "python",
   "pygments_lexer": "ipython3",
   "version": "3.13.5"
  }
 },
 "nbformat": 4,
 "nbformat_minor": 5
}
