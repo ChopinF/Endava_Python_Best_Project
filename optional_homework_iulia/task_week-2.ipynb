{
 "cells": [
  {
   "cell_type": "markdown",
   "id": "b3161b20",
   "metadata": {},
   "source": [
    "Write a simple script to demonstrate that integers and floats are immutable."
   ]
  },
  {
   "cell_type": "code",
   "execution_count": 1,
   "id": "95ce3bb4",
   "metadata": {},
   "outputs": [
    {
     "name": "stdout",
     "output_type": "stream",
     "text": [
      "Original id of a: 140721947100360\n",
      "Original id of b: 2943259502960\n",
      "New id of a after modification: 140721947100520\n",
      "New id of b after modification: 2943257431568\n"
     ]
    }
   ],
   "source": [
    "a = 10\n",
    "b = 3.14\n",
    "\n",
    "print(\"Original id of a:\", id(a))\n",
    "print(\"Original id of b:\", id(b))\n",
    "\n",
    "a += 5\n",
    "b *= 2\n",
    "\n",
    "print(\"New id of a after modification:\", id(a))\n",
    "print(\"New id of b after modification:\", id(b))"
   ]
  },
  {
   "cell_type": "markdown",
   "id": "365bb1f1",
   "metadata": {},
   "source": [
    "Create a program that asks the user to enter a year and then checks\n",
    "whether that year is a leap year. Print “This is a leap year.” or “This isn’t a\n",
    "leap year.” based on the provided year."
   ]
  },
  {
   "cell_type": "code",
   "execution_count": null,
   "id": "d13d50c7",
   "metadata": {},
   "outputs": [
    {
     "name": "stdout",
     "output_type": "stream",
     "text": [
      "This is a leap year.\n"
     ]
    }
   ],
   "source": [
    "year = input(\"Enter desired year: \")\n",
    "year = int(year)\n",
    "\n",
    "if (year % 4 == 0 and year % 100 != 0) or (year % 400 == 0):\n",
    "    print(\"This is a leap year.\")\n",
    "else:\n",
    "    print(\"This isn't a leap year.\")"
   ]
  },
  {
   "cell_type": "markdown",
   "id": "c97c1b78",
   "metadata": {},
   "source": [
    "Write a one-line expression using the ternary operator to check if a number\n",
    "is positive or negative and print the result."
   ]
  },
  {
   "cell_type": "code",
   "execution_count": 3,
   "id": "b40164e8",
   "metadata": {},
   "outputs": [
    {
     "name": "stdout",
     "output_type": "stream",
     "text": [
      "Negative\n"
     ]
    }
   ],
   "source": [
    "num = -7\n",
    "print(\"Positive\" if num > 0 else \"Negative\")"
   ]
  },
  {
   "cell_type": "markdown",
   "id": "90ae776b",
   "metadata": {},
   "source": [
    "Create a script that evaluates several Boolean expressions using logical\n",
    "operators (and, or, not). The following variables are defined:\n",
    "x = 5\n",
    "y = 0\n",
    "z = -3\n",
    "1. Check if all three numbers are greater than zero.\n",
    "2. Check if at least one number is equal to.\n",
    "3. Check if none of the numbers are negative.\n",
    "Use print statements to show the results."
   ]
  },
  {
   "cell_type": "code",
   "execution_count": null,
   "id": "0e334c92",
   "metadata": {},
   "outputs": [
    {
     "name": "stdout",
     "output_type": "stream",
     "text": [
      "All greater than zero: False\n",
      "At least one is zero: True\n",
      "None are negative: False\n"
     ]
    }
   ],
   "source": [
    "x = 5\n",
    "y = 0\n",
    "z = -3\n",
    "\n",
    "print(\"All greater than zero:\", x > 0 and y > 0 and z > 0)\n",
    "print(\"At least one is zero:\", x == 0 or y == 0 or z == 0)\n",
    "print(\"None are negative:\", not (x < 0 or y < 0 or z < 0))"
   ]
  },
  {
   "cell_type": "markdown",
   "id": "742587a7",
   "metadata": {},
   "source": [
    "Demonstrate how to convert values between int, float, and bool. Create a\n",
    "script with the following variables defined:\n",
    "x = 100\n",
    "y = -30\n",
    "z = 0\n",
    "Then compare the values and “identity” of the objects."
   ]
  },
  {
   "cell_type": "code",
   "execution_count": null,
   "id": "bed0960e",
   "metadata": {},
   "outputs": [
    {
     "name": "stdout",
     "output_type": "stream",
     "text": [
      "x: 100 float: 100.0 bool: True\n",
      "y: -30 float: -30.0 bool: True\n",
      "z: 0 float: 0.0 bool: False\n",
      "id(x): 140721947103240 id(x_float): 2943256309936 id(x_bool): 140721946214832\n",
      "id(y): 2943259506704 id(y_float): 2943259502704 id(y_bool): 140721946214832\n",
      "id(z): 140721947100040 id(z_float): 2943256310096 id(z_bool): 140721946214864\n"
     ]
    }
   ],
   "source": [
    "x = 100\n",
    "y = -30\n",
    "z = 0\n",
    "\n",
    "x_float = float(x)\n",
    "y_float = float(y)\n",
    "z_float = float(z)\n",
    "\n",
    "x_bool = bool(x)\n",
    "y_bool = bool(y)\n",
    "z_bool = bool(z)\n",
    "\n",
    "print(\"x:\", x, \"float:\", x_float, \"bool:\", x_bool)\n",
    "print(\"y:\", y, \"float:\", y_float, \"bool:\", y_bool)\n",
    "print(\"z:\", z, \"float:\", z_float, \"bool:\", z_bool)\n",
    "\n",
    "print(\"id(x):\", id(x), \"id(x_float):\", id(x_float), \"id(x_bool):\", id(x_bool))\n",
    "print(\"id(y):\", id(y), \"id(y_float):\", id(y_float), \"id(y_bool):\", id(y_bool))\n",
    "print(\"id(z):\", id(z), \"id(z_float):\", id(z_float), \"id(z_bool):\", id(z_bool))"
   ]
  }
 ],
 "metadata": {
  "kernelspec": {
   "display_name": "Python 3",
   "language": "python",
   "name": "python3"
  },
  "language_info": {
   "codemirror_mode": {
    "name": "ipython",
    "version": 3
   },
   "file_extension": ".py",
   "mimetype": "text/x-python",
   "name": "python",
   "nbconvert_exporter": "python",
   "pygments_lexer": "ipython3",
   "version": "3.13.5"
  }
 },
 "nbformat": 4,
 "nbformat_minor": 5
}
