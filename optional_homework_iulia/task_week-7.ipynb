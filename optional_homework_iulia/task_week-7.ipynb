{
 "cells": [
  {
   "cell_type": "markdown",
   "id": "e4706c8c",
   "metadata": {},
   "source": [
    "Create a text file named 'students.txt' containing student names, one per\n",
    "line.\n",
    "- Use a context manager to open and read the file.\n",
    "- Create a new file 'filtered.txt' and write only the names that start with a\n",
    "vowel (A, E, I, O, U)."
   ]
  },
  {
   "cell_type": "code",
   "execution_count": null,
   "id": "7ffab548",
   "metadata": {},
   "outputs": [],
   "source": [
    "student_names = ['Alice', 'Bob', 'Eve', 'Oscar', 'Uma', 'Charlie', 'Ian']\n",
    "with open('students.txt', 'w') as f:\n",
    "    for name in student_names:\n",
    "        f.write(name + '\\n')\n",
    "\n",
    "vowels = ('A', 'E', 'I', 'O', 'U')\n",
    "with open('students.txt', 'r') as infile, open('filtered.txt', 'w') as outfile:\n",
    "    for line in infile:\n",
    "        name = line.strip()\n",
    "        if name.startswith(vowels):\n",
    "            outfile.write(name + '\\n')"
   ]
  },
  {
   "cell_type": "markdown",
   "id": "f9b0e142",
   "metadata": {},
   "source": [
    "Create a file 'log.txt' with at least 5 lines of text.\n",
    "- Open the file using a context manager and read all lines.\n",
    "- Reset the file pointer.\n",
    "- Write the same content\n",
    "reversed\n",
    "(line order) to a new file\n",
    "'reversed_log.txt'."
   ]
  },
  {
   "cell_type": "code",
   "execution_count": null,
   "id": "7b040102",
   "metadata": {},
   "outputs": [],
   "source": [
    "log_lines = [\n",
    "    \"First log entry.\",\n",
    "    \"Second log entry.\",\n",
    "    \"Third log entry.\",\n",
    "    \"Fourth log entry.\",\n",
    "    \"Fifth log entry.\"\n",
    "]\n",
    "with open('log.txt', 'w') as log_file:\n",
    "    for line in log_lines:\n",
    "        log_file.write(line + '\\n')\n",
    "\n",
    "with open('log.txt', 'r') as log_file:\n",
    "    lines = log_file.readlines()\n",
    "    log_file.seek(0)\n",
    "    reversed_lines = lines[::-1]\n",
    "\n",
    "with open('reversed_log.txt', 'w') as rev_file:\n",
    "    rev_file.writelines(reversed_lines)"
   ]
  },
  {
   "cell_type": "markdown",
   "id": "9a9c722d",
   "metadata": {},
   "source": [
    "- Create a Python module named ‘report.py’ containing a function\n",
    "‘generate_report(data: dict)’.\n",
    "- The function should accept a dictionary of student names and scores, and\n",
    "return a formatted string report.\n",
    "- In a separate file, import the function and call it with data such as:\n",
    "‘{'Lisa': 85, 'Bart': 72, 'Homer': 91}’\n",
    "- Only include students who scored 80 or above in the final report.\n",
    "- Use string formatting and sorting to structure the output."
   ]
  },
  {
   "cell_type": "code",
   "execution_count": 6,
   "id": "e2d3f957",
   "metadata": {},
   "outputs": [
    {
     "name": "stdout",
     "output_type": "stream",
     "text": [
      "Student Report (Scores >= 80):\n",
      "Homer: 91\n",
      "Lisa: 85\n"
     ]
    }
   ],
   "source": [
    "import report\n",
    "student_scores = {'Lisa': 85, 'Bart': 72, 'Homer': 91}\n",
    "report_text = report.generate_report(student_scores)\n",
    "print(report_text)import report\n",
    "student_scores = {'Lisa': 85, 'Bart': 72, 'Homer': 91}\n",
    "report_text = report.generate_report(student_scores)\n",
    "print(report_text)"
   ]
  }
 ],
 "metadata": {
  "kernelspec": {
   "display_name": "Python 3",
   "language": "python",
   "name": "python3"
  },
  "language_info": {
   "codemirror_mode": {
    "name": "ipython",
    "version": 3
   },
   "file_extension": ".py",
   "mimetype": "text/x-python",
   "name": "python",
   "nbconvert_exporter": "python",
   "pygments_lexer": "ipython3",
   "version": "3.13.5"
  }
 },
 "nbformat": 4,
 "nbformat_minor": 5
}
