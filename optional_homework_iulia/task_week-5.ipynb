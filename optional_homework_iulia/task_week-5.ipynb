{
 "cells": [
  {
   "cell_type": "markdown",
   "id": "ce4c4c0a",
   "metadata": {},
   "source": [
    "Write a Python script that checks whether two words are anagrams of each\n",
    "other.\n",
    "- Use a dictionary to count the frequency of each letter in both words.\n",
    "- Define two words, e.g. \"listen\" and \"silent\"\n",
    "- Modify one of the dictionaries (e.g., delete one letter) and print both to show\n",
    "the effect."
   ]
  },
  {
   "cell_type": "code",
   "execution_count": 4,
   "id": "02decf7d",
   "metadata": {},
   "outputs": [
    {
     "name": "stdout",
     "output_type": "stream",
     "text": [
      "Frequency of letters in 'listen': {'l': 1, 'i': 1, 's': 1, 't': 1, 'e': 1, 'n': 1}\n",
      "Frequency of letters in 'silent': {'s': 1, 'i': 1, 'l': 1, 'e': 1, 'n': 1, 't': 1}\n",
      "Are 'listen' and 'silent' anagrams? True\n",
      "\n",
      "After removing 't' from 'listen':\n",
      "Frequency of letters in 'listen': {'l': 1, 'i': 1, 's': 1, 'e': 1, 'n': 1}\n",
      "Frequency of letters in 'silent': {'s': 1, 'i': 1, 'l': 1, 'e': 1, 'n': 1, 't': 1}\n"
     ]
    }
   ],
   "source": [
    "def letter_frequency(word):\n",
    "    freq = {}\n",
    "    for letter in word:\n",
    "        freq[letter] = freq.get(letter, 0) + 1\n",
    "    return freq\n",
    "\n",
    "word1 = \"listen\"\n",
    "word2 = \"silent\"\n",
    "\n",
    "freq1 = letter_frequency(word1)\n",
    "freq2 = letter_frequency(word2)\n",
    "\n",
    "print(\"Frequency of letters in '{}': {}\".format(word1, freq1))\n",
    "print(\"Frequency of letters in '{}': {}\".format(word2, freq2))\n",
    "\n",
    "are_anagrams = freq1 == freq2\n",
    "print(\"Are '{}' and '{}' anagrams? {}\".format(word1, word2, are_anagrams))\n",
    "\n",
    "freq1.pop('t', None)\n",
    "print(\"\\nAfter removing 't' from '{}':\".format(word1))\n",
    "print(\"Frequency of letters in '{}': {}\".format(word1, freq1))\n",
    "print(\"Frequency of letters in '{}': {}\".format(word2, freq2))"
   ]
  },
  {
   "cell_type": "markdown",
   "id": "9b647ae8",
   "metadata": {},
   "source": [
    "Given a dictionary where multiple keys may have the same value, invert it -\n",
    "such that values become keys, and keys become elements of a list.\n",
    "Example:\n",
    "grades = {\n",
    "\"Alice\": \"A\",\n",
    "\"Bob\": \"B\",\n",
    "\"Charlie\": \"A\",\n",
    "\"Diana\": \"C\"\n",
    "}\n",
    "Expected output:\n",
    "{\n",
    "\"A\": [\"Alice\", \"Charlie\"],\n",
    "\"B\": [\"Bob\"],\n",
    "\"C\": [\"Diana\"]\n",
    "}"
   ]
  },
  {
   "cell_type": "code",
   "execution_count": 5,
   "id": "437fa3ad",
   "metadata": {},
   "outputs": [
    {
     "name": "stdout",
     "output_type": "stream",
     "text": [
      "{'A': ['Alice', 'Charlie'], 'B': ['Bob'], 'C': ['Diana']}\n"
     ]
    }
   ],
   "source": [
    "grades = {\n",
    "    \"Alice\": \"A\",\n",
    "    \"Bob\": \"B\",\n",
    "    \"Charlie\": \"A\",\n",
    "    \"Diana\": \"C\"\n",
    "}\n",
    "\n",
    "inverted = {}\n",
    "for name, grade in grades.items():\n",
    "    inverted.setdefault(grade, []).append(name)\n",
    "\n",
    "print(inverted)"
   ]
  },
  {
   "cell_type": "markdown",
   "id": "d153da2b",
   "metadata": {},
   "source": [
    "Use list comprehension to create a list of squares from 1 to 10.\n",
    "- Use set comprehension to create a set of numbers dividable by 7 between 1\n",
    "and 50.\n",
    "- Use dictionary comprehension to create a new dictionary of only students\n",
    "who passed\n",
    "(>= 60)\n",
    ".\n",
    "score = {\"Alice\": 85, \"Bob\": 59, \"Charlie\": 92}\n",
    "- Use nested dictionary comprehension to create a weekly attendance log\n",
    "where:\n",
    "- Students attend only on Monday and Wednesday\n",
    "- All other days are marked as False\n",
    "- Input:\n",
    "students = [\"Michael\", \"David\", \"Liza\"]\n",
    "weekdays = [\"Mon\", \"Tue\", \"Wed\", \"Thu\", \"Fri\"]\n",
    "- Expected output:\n",
    "{\n",
    "\" Liza \": {\"Mon\": True, \"Tue\": False, \"Wed\": True, \"Thu\": False, \"Fri\": False},\n",
    "\" David \": {\"Mon\": True, \"Tue\": False, \"Wed\": True, \"Thu\": False, \"Fri\": False},\n",
    "\" Michael \": {\"Mon\": True, \"Tue\": False, \"Wed\": True, \"Thu\": False, \"Fri\":\n",
    "False}\n",
    "}"
   ]
  },
  {
   "cell_type": "code",
   "execution_count": 6,
   "id": "866585a6",
   "metadata": {},
   "outputs": [
    {
     "name": "stdout",
     "output_type": "stream",
     "text": [
      "Squares from 1 to 10: [1, 4, 9, 16, 25, 36, 49, 64, 81, 100]\n",
      "Numbers divisible by 7 between 1 and 50: {35, 7, 42, 14, 49, 21, 28}\n",
      "Students who passed: {'Alice': 85, 'Charlie': 92}\n",
      "Weekly attendance log: {'Michael': {'Mon': True, 'Tue': False, 'Wed': True, 'Thu': False, 'Fri': False}, 'David': {'Mon': True, 'Tue': False, 'Wed': True, 'Thu': False, 'Fri': False}, 'Liza': {'Mon': True, 'Tue': False, 'Wed': True, 'Thu': False, 'Fri': False}}\n"
     ]
    }
   ],
   "source": [
    "squares = [x**2 for x in range(1, 11)]\n",
    "print(\"Squares from 1 to 10:\", squares)\n",
    "\n",
    "div_by_7 = {x for x in range(1, 51) if x % 7 == 0}\n",
    "print(\"Numbers divisible by 7 between 1 and 50:\", div_by_7)\n",
    "\n",
    "score = {\"Alice\": 85, \"Bob\": 59, \"Charlie\": 92}\n",
    "passed = {name: s for name, s in score.items() if s >= 60}\n",
    "print(\"Students who passed:\", passed)\n",
    "\n",
    "students = [\"Michael\", \"David\", \"Liza\"]\n",
    "weekdays = [\"Mon\", \"Tue\", \"Wed\", \"Thu\", \"Fri\"]\n",
    "attendance = {\n",
    "    student: {day: day in [\"Mon\", \"Wed\"] for day in weekdays}\n",
    "    for student in students\n",
    "}\n",
    "print(\"Weekly attendance log:\", attendance)"
   ]
  }
 ],
 "metadata": {
  "kernelspec": {
   "display_name": "Python 3",
   "language": "python",
   "name": "python3"
  },
  "language_info": {
   "codemirror_mode": {
    "name": "ipython",
    "version": 3
   },
   "file_extension": ".py",
   "mimetype": "text/x-python",
   "name": "python",
   "nbconvert_exporter": "python",
   "pygments_lexer": "ipython3",
   "version": "3.13.5"
  }
 },
 "nbformat": 4,
 "nbformat_minor": 5
}
