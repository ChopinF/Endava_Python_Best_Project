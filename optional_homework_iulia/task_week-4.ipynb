{
 "cells": [
  {
   "cell_type": "markdown",
   "id": "065a62f7",
   "metadata": {},
   "source": [
    "You are given a list of tuples in the following format:\n",
    "(amount, currency, target_currency, exchange_rate)\n",
    "- Example:\n",
    "data = [\n",
    "(100, 'USD', 'EUR', 0.83),\n",
    "(100, 'USD', 'CAD', 1.27),\n",
    "(100, 'CAD', 'EUR', 0.65)\n",
    "]\n",
    "- Write code that unpacks each tuple and prints a converted amount using f-\n",
    "string formatting.\n",
    "- Example output: '100 USD = 83 EUR"
   ]
  },
  {
   "cell_type": "code",
   "execution_count": 2,
   "id": "71fd7e00",
   "metadata": {},
   "outputs": [
    {
     "name": "stdout",
     "output_type": "stream",
     "text": [
      "100 USD = 83 EUR\n",
      "100 USD = 127 CAD\n",
      "100 CAD = 65 EUR\n"
     ]
    }
   ],
   "source": [
    "data = [\n",
    "    (100, 'USD', 'EUR', 0.83),\n",
    "    (100, 'USD', 'CAD', 1.27),\n",
    "    (100, 'CAD', 'EUR', 0.65)\n",
    "]\n",
    "\n",
    "for amount, currency, target_currency, exchange_rate in data:\n",
    "    converted = amount * exchange_rate\n",
    "    print(f\"{amount} {currency} = {converted:.0f} {target_currency}\")"
   ]
  },
  {
   "cell_type": "markdown",
   "id": "7080b994",
   "metadata": {},
   "source": [
    "Write a Python script that prints the sum of all odd numbers from 1 to 100."
   ]
  },
  {
   "cell_type": "code",
   "execution_count": 3,
   "id": "48fe8036",
   "metadata": {},
   "outputs": [
    {
     "name": "stdout",
     "output_type": "stream",
     "text": [
      "2500\n"
     ]
    }
   ],
   "source": [
    "print(sum(i for i in range(1, 101) if i % 2 != 0))"
   ]
  },
  {
   "cell_type": "markdown",
   "id": "aa37ff92",
   "metadata": {},
   "source": [
    "Write a program that asks the user to guess a secret number (hardcode it to\n",
    "e.g. 7).\n",
    "- Stop the loop immediately once the correct number is guessed and print the\n",
    "message.\n",
    "- If the user doesn't guess the number within the allowed number of attempts\n",
    "(e.g. 3), display a message at the end."
   ]
  },
  {
   "cell_type": "code",
   "execution_count": 7,
   "id": "f2b13bf2",
   "metadata": {},
   "outputs": [
    {
     "name": "stdout",
     "output_type": "stream",
     "text": [
      "Sorry, you've used all attempts. The secret number was 7.\n"
     ]
    }
   ],
   "source": [
    "secret_number = 7\n",
    "attempts = 3\n",
    "\n",
    "for i in range(attempts):\n",
    "    guess = int(input(\"Guess the secret number: \"))\n",
    "    if guess == secret_number:\n",
    "        print(\"Congratulations! You guessed the secret number.\")\n",
    "        break\n",
    "else:\n",
    "    print(\"Sorry, you've used all attempts. The secret number was 7.\")"
   ]
  },
  {
   "cell_type": "markdown",
   "id": "f1595f33",
   "metadata": {},
   "source": [
    "You are given a list of fruits:\n",
    "fruits = ['apple', 'banana', 'cherry', 'date']\n",
    "- Print each fruit with:\n",
    "1. Its index - starting from index 1\n",
    "2. Its name\n",
    "3. and the number of letters in the fruit name\n",
    "- Format the output like this:\n",
    "1: apple (5 letters)\n",
    "2: banana (6 letters)\n",
    "3: cherry (6 letters)\n",
    "4: date (4 letters)"
   ]
  },
  {
   "cell_type": "code",
   "execution_count": 8,
   "id": "b52b49bc",
   "metadata": {},
   "outputs": [
    {
     "name": "stdout",
     "output_type": "stream",
     "text": [
      "1: apple (5 letters)\n",
      "2: banana (6 letters)\n",
      "3: cherry (6 letters)\n",
      "4: date (4 letters)\n"
     ]
    }
   ],
   "source": [
    "fruits = ['apple', 'banana', 'cherry', 'date']\n",
    "\n",
    "for idx, fruit in enumerate(fruits, start=1):\n",
    "    print(f\"{idx}: {fruit} ({len(fruit)} letters)\")"
   ]
  },
  {
   "cell_type": "markdown",
   "id": "13e612f6",
   "metadata": {},
   "source": [
    "Each list in the data has 3 columns: date, stop, and start\n",
    "data = (\n",
    "['2021-01-01', 20, 10],\n",
    "['2021-01-02', 20, 18],\n",
    "['2021-01-03', 10, 10],\n",
    "['2021-01-04', 102, 100],\n",
    "['2021-01-05', 45, 25]\n",
    ")\n",
    "1. Mutate the lists in the data to add one more element indicating the\n",
    "difference between the two integer numbers (stop - start) and add it at index\n",
    "1.\n",
    "2. Determine on which date this newly calculated value was the largest.\n",
    "3. Print that date"
   ]
  },
  {
   "cell_type": "code",
   "execution_count": 9,
   "id": "ad09714a",
   "metadata": {},
   "outputs": [
    {
     "name": "stdout",
     "output_type": "stream",
     "text": [
      "2021-01-05\n"
     ]
    }
   ],
   "source": [
    "data = [\n",
    "    ['2021-01-01', 20, 10],\n",
    "    ['2021-01-02', 20, 18],\n",
    "    ['2021-01-03', 10, 10],\n",
    "    ['2021-01-04', 102, 100],\n",
    "    ['2021-01-05', 45, 25]\n",
    "]\n",
    "\n",
    "for row in data:\n",
    "    diff = row[1] - row[2]\n",
    "    row.insert(1, diff)\n",
    "\n",
    "max_diff_row = max(data, key=lambda x: x[1])\n",
    "print(max_diff_row[0])"
   ]
  }
 ],
 "metadata": {
  "kernelspec": {
   "display_name": "Python 3",
   "language": "python",
   "name": "python3"
  },
  "language_info": {
   "codemirror_mode": {
    "name": "ipython",
    "version": 3
   },
   "file_extension": ".py",
   "mimetype": "text/x-python",
   "name": "python",
   "nbconvert_exporter": "python",
   "pygments_lexer": "ipython3",
   "version": "3.13.5"
  }
 },
 "nbformat": 4,
 "nbformat_minor": 5
}
