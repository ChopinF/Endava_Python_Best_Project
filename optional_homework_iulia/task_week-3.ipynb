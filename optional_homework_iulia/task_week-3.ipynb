{
 "cells": [
  {
   "cell_type": "markdown",
   "id": "2593239b",
   "metadata": {},
   "source": [
    "You are given the following list of numbers:\n",
    "numbers = [10, 20, 30, 40, 50]\n",
    "- Access and print:\n",
    "the first element\n",
    "the last element\n",
    "the middle element (use len() to calculate the index)\n",
    "- Add the number 60 to the end of the list.\n",
    "- Insert the number 15 at index 1.\n",
    "- Remove the last element from the list.\n",
    "- Print the length of the list.\n",
    "- Sort the list and print it"
   ]
  },
  {
   "cell_type": "code",
   "execution_count": 5,
   "id": "d9b03001",
   "metadata": {},
   "outputs": [
    {
     "name": "stdout",
     "output_type": "stream",
     "text": [
      "First element: 10\n",
      "Last element: 50\n",
      "Middle element: 30\n",
      "Length of the list: 6\n",
      "Sorted list: [10, 15, 20, 30, 40, 50]\n"
     ]
    }
   ],
   "source": [
    "numbers = [10, 20, 30, 40, 50]\n",
    "\n",
    "print(\"First element:\", numbers[0])\n",
    "print(\"Last element:\", numbers[-1])\n",
    "middle_index = len(numbers) // 2\n",
    "print(\"Middle element:\", numbers[middle_index])\n",
    "numbers.append(60)\n",
    "numbers.insert(1, 15)\n",
    "numbers.pop()\n",
    "print(\"Length of the list:\", len(numbers))\n",
    "numbers.sort()\n",
    "print(\"Sorted list:\", numbers)"
   ]
  },
  {
   "cell_type": "markdown",
   "id": "c3020493",
   "metadata": {},
   "source": [
    "Write a Python script that changes the target word into a new word from a\n",
    "sentence\n",
    "without\n",
    "using the replace() function.\n",
    "- Example:\n",
    "sentence = \"Python is fun because Python is powerful\"\n",
    "target_word = \"Python\"\n",
    "new_word = \"Programming\""
   ]
  },
  {
   "cell_type": "code",
   "execution_count": 2,
   "id": "be119989",
   "metadata": {},
   "outputs": [
    {
     "name": "stdout",
     "output_type": "stream",
     "text": [
      "Programming is fun because Programming is powerful\n"
     ]
    }
   ],
   "source": [
    "sentence = \"Python is fun because Python is powerful\"\n",
    "target_word = \"Python\"\n",
    "new_word = \"Programming\"\n",
    "\n",
    "words = sentence.split()\n",
    "for i in range(len(words)):\n",
    "    if words[i] == target_word:\n",
    "        words[i] = new_word\n",
    "new_sentence = ' '.join(words)\n",
    "print(new_sentence)"
   ]
  },
  {
   "cell_type": "markdown",
   "id": "66722372",
   "metadata": {},
   "source": [
    "Create a Python script that checks if a given word is a palindrome using\n",
    "slicing.\n",
    "- Hint: palindromes are 'level', 'madam'…"
   ]
  },
  {
   "cell_type": "code",
   "execution_count": 8,
   "id": "548230f7",
   "metadata": {},
   "outputs": [
    {
     "name": "stdout",
     "output_type": "stream",
     "text": [
      "'dhfjhg' is not a palindrome.\n"
     ]
    }
   ],
   "source": [
    "word = input(\"Enter a word: \")\n",
    "if word == word[::-1]:\n",
    "    print(f\"'{word}' is a palindrome.\")\n",
    "else:\n",
    "    print(f\"'{word}' is not a palindrome.\")"
   ]
  },
  {
   "cell_type": "markdown",
   "id": "52d2e932",
   "metadata": {},
   "source": [
    "Create a Python script that demonstrates the use of f-strings to format and\n",
    "display information in a clean and readable way.\n",
    "Example -> define the following variables:\n",
    "name = \"Alice\"\n",
    "age = 30\n",
    "balance = 1234.56789\n",
    "membership_date = \"2023-08-12\"\n",
    "status = True\n",
    "- Use f-strings to print the following:\n",
    "1. A sentence that introduces the user, including name and age.\n",
    "2. The balance is formatted with:\n",
    "exactly two decimal places\n",
    "prefixed with a currency symbol ($)\n",
    "aligned to the right in a field of width 10\n",
    "3. The membership date formatted using a placeholder like: Member since:\n",
    "2023-05-15\n",
    "4. A boolean sentence like: \"Active member: Yes\" if status is True, otherwise\n",
    "\"Active member: No\"."
   ]
  },
  {
   "cell_type": "code",
   "execution_count": 9,
   "id": "5f41df60",
   "metadata": {},
   "outputs": [
    {
     "name": "stdout",
     "output_type": "stream",
     "text": [
      "Alice is 30 years old.\n",
      "Balance: $   1234.57\n",
      "Member since: 2023-08-12\n",
      "Active member: Yes\n"
     ]
    }
   ],
   "source": [
    "name = \"Alice\"\n",
    "age = 30\n",
    "balance = 1234.56789\n",
    "membership_date = \"2023-08-12\"\n",
    "status = True\n",
    "\n",
    "print(f\"{name} is {age} years old.\")\n",
    "print(f\"Balance: ${balance:10.2f}\")\n",
    "print(f\"Member since: {membership_date}\")\n",
    "print(f\"Active member: {'Yes' if status else 'No'}\")"
   ]
  }
 ],
 "metadata": {
  "kernelspec": {
   "display_name": "Python 3",
   "language": "python",
   "name": "python3"
  },
  "language_info": {
   "codemirror_mode": {
    "name": "ipython",
    "version": 3
   },
   "file_extension": ".py",
   "mimetype": "text/x-python",
   "name": "python",
   "nbconvert_exporter": "python",
   "pygments_lexer": "ipython3",
   "version": "3.13.5"
  }
 },
 "nbformat": 4,
 "nbformat_minor": 5
}
